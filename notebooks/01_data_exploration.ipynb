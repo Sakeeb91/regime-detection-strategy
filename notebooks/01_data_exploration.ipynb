{
 "cells": [
  {
   "cell_type": "markdown",
   "metadata": {},
   "source": [
    "# Data Exploration and Preprocessing\n",
    "\n",
    "This notebook explores market data, performs preprocessing, and validates data quality."
   ]
  },
  {
   "cell_type": "code",
   "execution_count": null,
   "metadata": {},
   "outputs": [],
   "source": [
    "import sys\n",
    "sys.path.append('..')\n",
    "\n",
    "import pandas as pd\n",
    "import numpy as np\n",
    "import matplotlib.pyplot as plt\n",
    "import seaborn as sns\n",
    "\n",
    "from src.data.data_loader import DataLoader\n",
    "from src.data.data_preprocessor import DataPreprocessor\n",
    "from src.data.feature_engineer import FeatureEngineer\n",
    "\n",
    "# Configure plotting\n",
    "plt.style.use('seaborn-v0_8-darkgrid')\n",
    "sns.set_palette('husl')\n",
    "%matplotlib inline"
   ]
  },
  {
   "cell_type": "markdown",
   "metadata": {},
   "source": [
    "## 1. Load Market Data\n",
    "\n",
    "Load historical price data for analysis."
   ]
  },
  {
   "cell_type": "code",
   "execution_count": null,
   "metadata": {},
   "outputs": [],
   "source": [
    "# Initialize data loader\n",
    "loader = DataLoader(use_cache=True)\n",
    "\n",
    "# Load data for SPY (S&P 500 ETF)\n",
    "symbols = ['SPY', 'QQQ', 'IWM']  # Large cap, Tech, Small cap\n",
    "start_date = '2015-01-01'\n",
    "end_date = '2023-12-31'\n",
    "\n",
    "data = {}\n",
    "for symbol in symbols:\n",
    "    print(f\"Loading {symbol}...\")\n",
    "    data[symbol] = loader.load_data(symbol, start_date=start_date, end_date=end_date)\n",
    "    print(f\"Loaded {len(data[symbol])} rows\")\n",
    "\n",
    "# Focus on SPY for detailed analysis\n",
    "spy_data = data['SPY']"
   ]
  },
  {
   "cell_type": "markdown",
   "metadata": {},
   "source": [
    "## 2. Data Quality Check"
   ]
  },
  {
   "cell_type": "code",
   "execution_count": null,
   "metadata": {},
   "outputs": [],
   "source": [
    "# Display basic information\n",
    "print(\"Data shape:\", spy_data.shape)\n",
    "print(\"\\nFirst few rows:\")\n",
    "display(spy_data.head())\n",
    "\n",
    "print(\"\\nLast few rows:\")\n",
    "display(spy_data.tail())\n",
    "\n",
    "# Check for missing values\n",
    "print(\"\\nMissing values:\")\n",
    "print(spy_data.isnull().sum())\n",
    "\n",
    "# Summary statistics\n",
    "print(\"\\nSummary statistics:\")\n",
    "display(spy_data.describe())"
   ]
  },
  {
   "cell_type": "markdown",
   "metadata": {},
   "source": [
    "## 3. Visualize Price Data"
   ]
  },
  {
   "cell_type": "code",
   "execution_count": null,
   "metadata": {},
   "outputs": [],
   "source": [
    "# Plot price and volume\n",
    "fig, axes = plt.subplots(2, 1, figsize=(15, 8))\n",
    "\n",
    "# Price plot\n",
    "axes[0].plot(spy_data.index, spy_data['close'], label='Close Price', linewidth=1.5)\n",
    "axes[0].set_title('SPY Price History', fontsize=14, fontweight='bold')\n",
    "axes[0].set_ylabel('Price ($)', fontsize=12)\n",
    "axes[0].legend()\n",
    "axes[0].grid(True, alpha=0.3)\n",
    "\n",
    "# Volume plot\n",
    "axes[1].bar(spy_data.index, spy_data['volume'], width=1, alpha=0.7, color='steelblue')\n",
    "axes[1].set_title('Trading Volume', fontsize=14, fontweight='bold')\n",
    "axes[1].set_ylabel('Volume', fontsize=12)\n",
    "axes[1].set_xlabel('Date', fontsize=12)\n",
    "axes[1].grid(True, alpha=0.3)\n",
    "\n",
    "plt.tight_layout()\n",
    "plt.show()"
   ]
  },
  {
   "cell_type": "markdown",
   "metadata": {},
   "source": [
    "## 4. Returns Analysis"
   ]
  },
  {
   "cell_type": "code",
   "execution_count": null,
   "metadata": {},
   "outputs": [],
   "source": [
    "# Calculate returns\n",
    "spy_data['returns'] = spy_data['close'].pct_change()\n",
    "spy_data['log_returns'] = np.log(spy_data['close'] / spy_data['close'].shift(1))\n",
    "\n",
    "# Plot returns distribution\n",
    "fig, axes = plt.subplots(1, 2, figsize=(15, 5))\n",
    "\n",
    "# Returns time series\n",
    "axes[0].plot(spy_data.index, spy_data['returns'], alpha=0.6, linewidth=0.8)\n",
    "axes[0].axhline(y=0, color='r', linestyle='--', alpha=0.3)\n",
    "axes[0].set_title('Daily Returns', fontsize=14, fontweight='bold')\n",
    "axes[0].set_ylabel('Return', fontsize=12)\n",
    "axes[0].set_xlabel('Date', fontsize=12)\n",
    "axes[0].grid(True, alpha=0.3)\n",
    "\n",
    "# Returns distribution\n",
    "axes[1].hist(spy_data['returns'].dropna(), bins=100, alpha=0.7, edgecolor='black')\n",
    "axes[1].axvline(x=spy_data['returns'].mean(), color='r', linestyle='--', \n",
    "                label=f'Mean: {spy_data[\"returns\"].mean():.4f}')\n",
    "axes[1].set_title('Returns Distribution', fontsize=14, fontweight='bold')\n",
    "axes[1].set_xlabel('Return', fontsize=12)\n",
    "axes[1].set_ylabel('Frequency', fontsize=12)\n",
    "axes[1].legend()\n",
    "axes[1].grid(True, alpha=0.3)\n",
    "\n",
    "plt.tight_layout()\n",
    "plt.show()\n",
    "\n",
    "# Print statistics\n",
    "print(\"Returns Statistics:\")\n",
    "print(f\"Mean:       {spy_data['returns'].mean():.4f}\")\n",
    "print(f\"Std Dev:    {spy_data['returns'].std():.4f}\")\n",
    "print(f\"Skewness:   {spy_data['returns'].skew():.4f}\")\n",
    "print(f\"Kurtosis:   {spy_data['returns'].kurtosis():.4f}\")\n",
    "print(f\"Min:        {spy_data['returns'].min():.4f}\")\n",
    "print(f\"Max:        {spy_data['returns'].max():.4f}\")"
   ]
  },
  {
   "cell_type": "markdown",
   "metadata": {},
   "source": [
    "## 5. Data Preprocessing"
   ]
  },
  {
   "cell_type": "code",
   "execution_count": null,
   "metadata": {},
   "outputs": [],
   "source": [
    "# Apply preprocessing\n",
    "preprocessor = DataPreprocessor()\n",
    "clean_data = preprocessor.clean_data(spy_data)\n",
    "\n",
    "print(f\"Original data: {len(spy_data)} rows\")\n",
    "print(f\"Clean data: {len(clean_data)} rows\")\n",
    "print(f\"Removed: {len(spy_data) - len(clean_data)} rows\")\n",
    "\n",
    "# Validate cleaning\n",
    "print(\"\\nMissing values after cleaning:\")\n",
    "print(clean_data.isnull().sum())"
   ]
  },
  {
   "cell_type": "markdown",
   "metadata": {},
   "source": [
    "## 6. Feature Engineering Preview"
   ]
  },
  {
   "cell_type": "code",
   "execution_count": null,
   "metadata": {},
   "outputs": [],
   "source": [
    "# Create features\n",
    "engineer = FeatureEngineer(windows=[10, 20, 50])\n",
    "features = engineer.create_features(clean_data)\n",
    "\n",
    "print(f\"Number of features created: {len(features.columns)}\")\n",
    "print(f\"\\nFeature columns:\")\n",
    "for col in features.columns:\n",
    "    print(f\"  - {col}\")\n",
    "\n",
    "# Display feature correlation heatmap (sample)\n",
    "sample_features = features[['returns', 'volatility_20', 'rsi_14', 'macd', 'atr_14']].dropna()\n",
    "\n",
    "plt.figure(figsize=(10, 8))\n",
    "correlation_matrix = sample_features.corr()\n",
    "sns.heatmap(correlation_matrix, annot=True, cmap='coolwarm', center=0, \n",
    "            square=True, linewidths=1, fmt='.2f')\n",
    "plt.title('Feature Correlation Matrix (Sample)', fontsize=14, fontweight='bold')\n",
    "plt.tight_layout()\n",
    "plt.show()"
   ]
  },
  {
   "cell_type": "markdown",
   "metadata": {},
   "source": [
    "## 7. Multi-Asset Comparison"
   ]
  },
  {
   "cell_type": "code",
   "execution_count": null,
   "metadata": {},
   "outputs": [],
   "source": [
    "# Compare returns across assets\n",
    "fig, axes = plt.subplots(1, 2, figsize=(15, 5))\n",
    "\n",
    "# Normalized prices\n",
    "for symbol, df in data.items():\n",
    "    normalized = df['close'] / df['close'].iloc[0] * 100\n",
    "    axes[0].plot(df.index, normalized, label=symbol, linewidth=1.5)\n",
    "\n",
    "axes[0].set_title('Normalized Price Performance', fontsize=14, fontweight='bold')\n",
    "axes[0].set_ylabel('Normalized Price (Base=100)', fontsize=12)\n",
    "axes[0].set_xlabel('Date', fontsize=12)\n",
    "axes[0].legend()\n",
    "axes[0].grid(True, alpha=0.3)\n",
    "\n",
    "# Cumulative returns\n",
    "for symbol, df in data.items():\n",
    "    returns = df['close'].pct_change()\n",
    "    cumulative = (1 + returns).cumprod()\n",
    "    axes[1].plot(df.index, cumulative, label=symbol, linewidth=1.5)\n",
    "\n",
    "axes[1].set_title('Cumulative Returns', fontsize=14, fontweight='bold')\n",
    "axes[1].set_ylabel('Cumulative Return', fontsize=12)\n",
    "axes[1].set_xlabel('Date', fontsize=12)\n",
    "axes[1].legend()\n",
    "axes[1].grid(True, alpha=0.3)\n",
    "\n",
    "plt.tight_layout()\n",
    "plt.show()"
   ]
  },
  {
   "cell_type": "markdown",
   "metadata": {},
   "source": [
    "## Next Steps\n",
    "\n",
    "- Proceed to `02_regime_analysis.ipynb` for regime detection\n",
    "- Features are ready for machine learning models\n",
    "- Data quality has been validated"
   ]
  }
 ],
 "metadata": {
  "kernelspec": {
   "display_name": "Python 3",
   "language": "python",
   "name": "python3"
  },
  "language_info": {
   "codemirror_mode": {
    "name": "ipython",
    "version": 3
   },
   "file_extension": ".py",
   "mimetype": "text/x-python",
   "name": "python",
   "nbconvert_exporter": "python",
   "pygments_lexer": "ipython3",
   "version": "3.9.0"
  }
 },
 "nbformat": 4,
 "nbformat_minor": 4
}