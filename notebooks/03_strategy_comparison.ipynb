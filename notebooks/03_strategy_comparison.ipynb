{
 "cells": [
  {
   "cell_type": "markdown",
   "metadata": {},
   "source": [
    "# Strategy Comparison and Backtesting\n",
    "\n",
    "This notebook compares different trading strategies across market regimes."
   ]
  },
  {
   "cell_type": "code",
   "execution_count": null,
   "metadata": {},
   "outputs": [],
   "source": [
    "import sys\n",
    "sys.path.append('..')\n",
    "\n",
    "import pandas as pd\n",
    "import numpy as np\n",
    "import matplotlib.pyplot as plt\n",
    "import seaborn as sns\n",
    "\n",
    "from src.data.data_loader import DataLoader\n",
    "from src.data.data_preprocessor import DataPreprocessor\n",
    "from src.data.feature_engineer import FeatureEngineer\n",
    "from src.regime_detection.gmm_detector import GMMDetector\n",
    "from src.strategies.trend_following import TrendFollowingStrategy\n",
    "from src.strategies.mean_reversion import MeanReversionStrategy\n",
    "from src.strategies.volatility_breakout import VolatilityBreakoutStrategy\n",
    "from src.strategies.backtester import Backtester\n",
    "from src.utils.reporting import PerformanceReporter\n",
    "\n",
    "plt.style.use('seaborn-v0_8-darkgrid')\n",
    "%matplotlib inline"
   ]
  },
  {
   "cell_type": "markdown",
   "metadata": {},
   "source": [
    "## 1. Prepare Data and Regimes"
   ]
  },
  {
   "cell_type": "code",
   "execution_count": null,
   "metadata": {},
   "outputs": [],
   "source": [
    "# Load and prepare data\n",
    "loader = DataLoader()\n",
    "raw_data = loader.load_data('SPY', start_date='2015-01-01', end_date='2023-12-31')\n",
    "\n",
    "preprocessor = DataPreprocessor()\n",
    "clean_data = preprocessor.clean_data(raw_data)\n",
    "\n",
    "engineer = FeatureEngineer()\n",
    "features = engineer.create_features(clean_data)\n",
    "regime_features = engineer.extract_regime_features(features)\n",
    "\n",
    "# Detect regimes\n",
    "detector = GMMDetector(n_regimes=3, random_state=42)\n",
    "detector.fit(regime_features)\n",
    "regimes = detector.predict(regime_features)\n",
    "\n",
    "print(f\"Data prepared: {len(features)} periods\")\n",
    "print(f\"Regimes detected: {regimes.nunique()} unique regimes\")"
   ]
  },
  {
   "cell_type": "markdown",
   "metadata": {},
   "source": [
    "## 2. Initialize Strategies"
   ]
  },
  {
   "cell_type": "code",
   "execution_count": null,
   "metadata": {},
   "outputs": [],
   "source": [
    "# Create strategy instances\n",
    "strategies = [\n",
    "    TrendFollowingStrategy(name='Trend Following'),\n",
    "    MeanReversionStrategy(name='Mean Reversion'),\n",
    "    VolatilityBreakoutStrategy(name='Volatility Breakout')\n",
    "]\n",
    "\n",
    "print(\"Strategies initialized:\")\n",
    "for strategy in strategies:\n",
    "    print(f\"  - {strategy.name}\")"
   ]
  },
  {
   "cell_type": "markdown",
   "metadata": {},
   "source": [
    "## 3. Run Backtests"
   ]
  },
  {
   "cell_type": "code",
   "execution_count": null,
   "metadata": {},
   "outputs": [],
   "source": [
    "# Initialize backtester\n",
    "backtester = Backtester(\n",
    "    initial_capital=100000,\n",
    "    commission=0.001,\n",
    "    slippage=0.0005\n",
    ")\n",
    "\n",
    "# Run backtests\n",
    "results = {}\n",
    "for strategy in strategies:\n",
    "    print(f\"\\nBacktesting {strategy.name}...\")\n",
    "    result = backtester.run(strategy, features, regime_labels=regimes)\n",
    "    results[strategy.name] = result\n",
    "    \n",
    "    metrics = result['metrics']\n",
    "    print(f\"  Total Return: {metrics['total_return']:.2%}\")\n",
    "    print(f\"  Sharpe Ratio: {metrics['sharpe_ratio']:.2f}\")\n",
    "    print(f\"  Max Drawdown: {metrics['max_drawdown']:.2%}\")\n",
    "    print(f\"  Win Rate: {metrics['win_rate']:.2%}\")\n",
    "    print(f\"  Trades: {metrics['n_trades']}\")"
   ]
  },
  {
   "cell_type": "markdown",
   "metadata": {},
   "source": [
    "## 4. Compare Strategies"
   ]
  },
  {
   "cell_type": "code",
   "execution_count": null,
   "metadata": {},
   "outputs": [],
   "source": [
    "# Create comparison table\n",
    "comparison = backtester.compare_strategies(strategies, features, regimes)\n",
    "\n",
    "print(\"\\nStrategy Comparison:\")\n",
    "display(comparison)\n",
    "\n",
    "# Visualize comparison\n",
    "fig, axes = plt.subplots(2, 2, figsize=(14, 10))\n",
    "\n",
    "# Total return comparison\n",
    "comparison['Total Return'].plot(kind='bar', ax=axes[0,0], color='steelblue')\n",
    "axes[0,0].set_title('Total Return', fontweight='bold')\n",
    "axes[0,0].set_ylabel('Return')\n",
    "axes[0,0].tick_params(axis='x', rotation=45)\n",
    "axes[0,0].grid(True, alpha=0.3)\n",
    "\n",
    "# Sharpe ratio comparison\n",
    "comparison['Sharpe'].plot(kind='bar', ax=axes[0,1], color='green')\n",
    "axes[0,1].set_title('Sharpe Ratio', fontweight='bold')\n",
    "axes[0,1].set_ylabel('Sharpe')\n",
    "axes[0,1].tick_params(axis='x', rotation=45)\n",
    "axes[0,1].axhline(y=1, color='r', linestyle='--', alpha=0.3, label='Threshold')\n",
    "axes[0,1].legend()\n",
    "axes[0,1].grid(True, alpha=0.3)\n",
    "\n",
    "# Max drawdown comparison\n",
    "comparison['Max DD'].plot(kind='bar', ax=axes[1,0], color='red')\n",
    "axes[1,0].set_title('Maximum Drawdown', fontweight='bold')\n",
    "axes[1,0].set_ylabel('Drawdown')\n",
    "axes[1,0].tick_params(axis='x', rotation=45)\n",
    "axes[1,0].grid(True, alpha=0.3)\n",
    "\n",
    "# Win rate comparison\n",
    "comparison['Win Rate'].plot(kind='bar', ax=axes[1,1], color='orange')\n",
    "axes[1,1].set_title('Win Rate', fontweight='bold')\n",
    "axes[1,1].set_ylabel('Win Rate')\n",
    "axes[1,1].tick_params(axis='x', rotation=45)\n",
    "axes[1,1].grid(True, alpha=0.3)\n",
    "\n",
    "plt.tight_layout()\n",
    "plt.show()"
   ]
  },
  {
   "cell_type": "markdown",
   "metadata": {},
   "source": [
    "## 5. Equity Curves"
   ]
  },
  {
   "cell_type": "code",
   "execution_count": null,
   "metadata": {},
   "outputs": [],
   "source": [
    "# Plot equity curves\n",
    "plt.figure(figsize=(15, 8))\n",
    "\n",
    "for strategy_name, result in results.items():\n",
    "    equity = result['equity_curve']\n",
    "    plt.plot(equity.index, equity, label=strategy_name, linewidth=2)\n",
    "\n",
    "# Add buy & hold benchmark\n",
    "buy_hold = features['close'] / features['close'].iloc[0] * 100000\n",
    "plt.plot(buy_hold.index, buy_hold, label='Buy & Hold', \n",
    "         linestyle='--', linewidth=2, alpha=0.7, color='black')\n",
    "\n",
    "plt.title('Equity Curves Comparison', fontsize=16, fontweight='bold')\n",
    "plt.xlabel('Date', fontsize=12)\n",
    "plt.ylabel('Portfolio Value ($)', fontsize=12)\n",
    "plt.legend(fontsize=10)\n",
    "plt.grid(True, alpha=0.3)\n",
    "plt.tight_layout()\n",
    "plt.show()"
   ]
  },
  {
   "cell_type": "markdown",
   "metadata": {},
   "source": [
    "## 6. Regime-Specific Performance"
   ]
  },
  {
   "cell_type": "code",
   "execution_count": null,
   "metadata": {},
   "outputs": [],
   "source": [
    "# Analyze performance by regime\n",
    "for strategy_name, result in results.items():\n",
    "    print(f\"\\n{'='*60}\")\n",
    "    print(f\"{strategy_name} - Performance by Regime\")\n",
    "    print('='*60)\n",
    "    \n",
    "    if 'regime_analysis' in result['metrics']:\n",
    "        regime_analysis = result['metrics']['regime_analysis']\n",
    "        \n",
    "        regime_df = pd.DataFrame(regime_analysis).T\n",
    "        display(regime_df)\n",
    "        \n",
    "        # Plot regime performance\n",
    "        fig, axes = plt.subplots(1, 2, figsize=(14, 5))\n",
    "        \n",
    "        regime_df['total_return'].plot(kind='bar', ax=axes[0], color='steelblue')\n",
    "        axes[0].set_title(f'{strategy_name} - Returns by Regime', fontweight='bold')\n",
    "        axes[0].set_ylabel('Total Return')\n",
    "        axes[0].tick_params(axis='x', rotation=0)\n",
    "        axes[0].grid(True, alpha=0.3)\n",
    "        \n",
    "        regime_df['sharpe'].plot(kind='bar', ax=axes[1], color='green')\n",
    "        axes[1].set_title(f'{strategy_name} - Sharpe by Regime', fontweight='bold')\n",
    "        axes[1].set_ylabel('Sharpe Ratio')\n",
    "        axes[1].tick_params(axis='x', rotation=0)\n",
    "        axes[1].axhline(y=0, color='r', linestyle='--', alpha=0.3)\n",
    "        axes[1].grid(True, alpha=0.3)\n",
    "        \n",
    "        plt.tight_layout()\n",
    "        plt.show()"
   ]
  },
  {
   "cell_type": "markdown",
   "metadata": {},
   "source": [
    "## 7. Generate Reports"
   ]
  },
  {
   "cell_type": "code",
   "execution_count": null,
   "metadata": {},
   "outputs": [],
   "source": [
    "# Generate detailed reports\n",
    "reporter = PerformanceReporter(output_dir='../reports')\n",
    "\n",
    "for strategy_name, result in results.items():\n",
    "    report = reporter.generate_report(result, strategy_name)\n",
    "    \n",
    "    # Save text report\n",
    "    filename = f\"{strategy_name.lower().replace(' ', '_')}_report.txt\"\n",
    "    reporter.save_text_report(report, filename)\n",
    "    print(f\"Saved report: {filename}\")\n",
    "\n",
    "# Generate comparison report\n",
    "reporter.compare_strategies(results, 'strategy_comparison.html')\n",
    "print(\"\\nComparison report saved\")"
   ]
  },
  {
   "cell_type": "markdown",
   "metadata": {},
   "source": [
    "## Next Steps\n",
    "\n",
    "- Proceed to `04_performance_report.ipynb` for detailed analysis\n",
    "- Reports generated in `reports/` directory\n",
    "- Consider adaptive strategy selection based on regime"
   ]
  }
 ],
 "metadata": {
  "kernelspec": {
   "display_name": "Python 3",
   "language": "python",
   "name": "python3"
  },
  "language_info": {
   "codemirror_mode": {
    "name": "ipython",
    "version": 3
   },
   "file_extension": ".py",
   "mimetype": "text/x-python",
   "name": "python",
   "nbconvert_exporter": "python",
   "pygments_lexer": "ipython3",
   "version": "3.9.0"
  }
 },
 "nbformat": 4,
 "nbformat_minor": 4
}